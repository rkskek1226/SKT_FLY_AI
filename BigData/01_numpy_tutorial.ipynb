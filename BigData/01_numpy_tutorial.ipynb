{
 "cells": [
  {
   "cell_type": "code",
   "execution_count": 1,
   "id": "2e68852b-2474-4986-b38c-e6ae7342a801",
   "metadata": {},
   "outputs": [
    {
     "data": {
      "text/plain": [
       "'1.21.0'"
      ]
     },
     "execution_count": 1,
     "metadata": {},
     "output_type": "execute_result"
    }
   ],
   "source": [
    "import numpy as np\n",
    "np.__version__"
   ]
  },
  {
   "cell_type": "code",
   "execution_count": 2,
   "id": "6181bc1f-d2a0-4b69-a911-e1ce89b55453",
   "metadata": {},
   "outputs": [
    {
     "name": "stdout",
     "output_type": "stream",
     "text": [
      "<class 'numpy.ndarray'>\n"
     ]
    },
    {
     "data": {
      "text/plain": [
       "numpy.ndarray"
      ]
     },
     "execution_count": 2,
     "metadata": {},
     "output_type": "execute_result"
    }
   ],
   "source": [
    "john = [10, 8, 6, 7]\n",
    "x = np.array(john)\n",
    "\n",
    "print(type(x))\n",
    "type(x)"
   ]
  },
  {
   "cell_type": "code",
   "execution_count": 3,
   "id": "f48bffaf-fae1-4db2-ac61-9e9735742d1b",
   "metadata": {},
   "outputs": [
    {
     "name": "stdout",
     "output_type": "stream",
     "text": [
      "[10  8  6  7]\n"
     ]
    },
    {
     "data": {
      "text/plain": [
       "array([10,  8,  6,  7])"
      ]
     },
     "execution_count": 3,
     "metadata": {},
     "output_type": "execute_result"
    }
   ],
   "source": [
    "print(x)\n",
    "x"
   ]
  },
  {
   "cell_type": "code",
   "execution_count": 4,
   "id": "7f90685f-139f-4269-921a-e30113a49849",
   "metadata": {},
   "outputs": [
    {
     "data": {
      "text/plain": [
       "array([11,  9,  7,  8])"
      ]
     },
     "execution_count": 4,
     "metadata": {},
     "output_type": "execute_result"
    }
   ],
   "source": [
    "john = [10, 8, 6, 7]\n",
    "john = np.array(john) + 1   # john = [i + 1 for i in john]\n",
    "john"
   ]
  },
  {
   "cell_type": "markdown",
   "id": "2ca827b1-dcba-4679-baf2-65cfa5781774",
   "metadata": {
    "tags": []
   },
   "source": [
    "## 다차원 배열\n",
    "* 괄호 개수로 파악하면 됨\n",
    "* np.array([])는 1차원\n",
    "* np.array([[]])는 2차원"
   ]
  },
  {
   "cell_type": "code",
   "execution_count": 5,
   "id": "de65038b-800b-4328-90c4-29a604256ba7",
   "metadata": {},
   "outputs": [
    {
     "data": {
      "text/plain": [
       "array([[1, 2, 3, 4],\n",
       "       [5, 6, 7, 8]])"
      ]
     },
     "execution_count": 5,
     "metadata": {},
     "output_type": "execute_result"
    }
   ],
   "source": [
    "scores = [[1, 2, 3, 4], \n",
    "         [5, 6, 7, 8]]\n",
    "x = np.array(scores)\n",
    "x"
   ]
  },
  {
   "cell_type": "code",
   "execution_count": 6,
   "id": "24b8b7f3-6649-4989-8237-85fece60fdc8",
   "metadata": {},
   "outputs": [
    {
     "data": {
      "text/plain": [
       "(2, 4)"
      ]
     },
     "execution_count": 6,
     "metadata": {},
     "output_type": "execute_result"
    }
   ],
   "source": [
    "x.shape"
   ]
  },
  {
   "cell_type": "code",
   "execution_count": 7,
   "id": "f78c306a-10d9-4036-a99e-2a221ddf5d6c",
   "metadata": {},
   "outputs": [
    {
     "data": {
      "text/plain": [
       "dtype('int32')"
      ]
     },
     "execution_count": 7,
     "metadata": {},
     "output_type": "execute_result"
    }
   ],
   "source": [
    "x.dtype"
   ]
  },
  {
   "cell_type": "code",
   "execution_count": 8,
   "id": "1b1be541-a221-4779-8fbf-5e8c210c96c6",
   "metadata": {},
   "outputs": [
    {
     "data": {
      "text/plain": [
       "array([1, 2, 3, 4, 5, 6, 7, 8, 9])"
      ]
     },
     "execution_count": 8,
     "metadata": {},
     "output_type": "execute_result"
    }
   ],
   "source": [
    "x = np.arange(1, 10)\n",
    "x"
   ]
  },
  {
   "cell_type": "code",
   "execution_count": 9,
   "id": "22f04901-6c51-45ab-b7b3-5066e3d43ae0",
   "metadata": {},
   "outputs": [
    {
     "data": {
      "text/plain": [
       "array([[1, 2, 3],\n",
       "       [4, 5, 6],\n",
       "       [7, 8, 9]])"
      ]
     },
     "execution_count": 9,
     "metadata": {},
     "output_type": "execute_result"
    }
   ],
   "source": [
    "y = x.reshape(3, 3)\n",
    "y"
   ]
  },
  {
   "cell_type": "code",
   "execution_count": 10,
   "id": "3ab1c21b-eabc-478f-90a0-71693bd20281",
   "metadata": {},
   "outputs": [
    {
     "name": "stdout",
     "output_type": "stream",
     "text": [
      "[[ 0  1  2  3]\n",
      " [ 4  5  6  7]\n",
      " [ 8  9 10 11]\n",
      " [12 13 14 15]]\n",
      "[[[ 0  1]\n",
      "  [ 2  3]\n",
      "  [ 4  5]\n",
      "  [ 6  7]]\n",
      "\n",
      " [[ 8  9]\n",
      "  [10 11]\n",
      "  [12 13]\n",
      "  [14 15]]]\n"
     ]
    }
   ],
   "source": [
    "x = np.arange(0, 16)\n",
    "x = x.reshape(4, 4)\n",
    "print(x)\n",
    "x = x.reshape(2, 4, 2)\n",
    "print(x)"
   ]
  },
  {
   "cell_type": "code",
   "execution_count": 45,
   "id": "983173b5-888e-4884-97fc-9c5d47377c24",
   "metadata": {},
   "outputs": [
    {
     "name": "stdout",
     "output_type": "stream",
     "text": [
      "(3, 1)\n"
     ]
    },
    {
     "data": {
      "text/plain": [
       "array([1, 2, 3])"
      ]
     },
     "execution_count": 45,
     "metadata": {},
     "output_type": "execute_result"
    }
   ],
   "source": [
    "x = np.array([[1], [2], [3]])\n",
    "print(x.shape)\n",
    "x = x.reshape(-1)\n",
    "x"
   ]
  },
  {
   "cell_type": "markdown",
   "id": "14772952-f18c-48f3-8030-dfbe01d29402",
   "metadata": {},
   "source": [
    "## 슬라이싱, 인덱싱"
   ]
  },
  {
   "cell_type": "code",
   "execution_count": 12,
   "id": "cf70d363-e2d5-4403-adb7-483778c9f0c4",
   "metadata": {},
   "outputs": [
    {
     "name": "stdout",
     "output_type": "stream",
     "text": [
      "[4 5 6 7 8 9 0]\n",
      "[5 6 7]\n"
     ]
    }
   ],
   "source": [
    "x = np.array([4, 5, 6, 7, 8, 9, 0])\n",
    "x[2] # 인덱싱\n",
    "print(x)\n",
    "x = x[1:4] # 슬라이싱\n",
    "print(x)"
   ]
  },
  {
   "cell_type": "code",
   "execution_count": 13,
   "id": "6234aeb8-1065-4760-868d-03451e673a56",
   "metadata": {},
   "outputs": [
    {
     "name": "stdout",
     "output_type": "stream",
     "text": [
      "[5 6]\n",
      "[5 6]\n"
     ]
    }
   ],
   "source": [
    "x = np.array([[4, 5, 6], [8, 9, 0]])\n",
    "print(x[0][1:], \"\\n\")\n",
    "print(x[0, 1:], \"\\n\")"
   ]
  },
  {
   "cell_type": "code",
   "execution_count": 47,
   "id": "5005590a-5a48-460a-86d8-3bf661ded366",
   "metadata": {},
   "outputs": [
    {
     "name": "stdout",
     "output_type": "stream",
     "text": [
      "[[1 2 3]\n",
      " [3 4 5]] \n",
      "\n",
      "18 \n",
      "\n",
      "[4 6 8] \n",
      "\n",
      "[ 6 12] \n",
      "\n",
      "3.0 \n",
      "\n",
      "[2. 3. 4.] \n",
      "\n",
      "[2. 4.] \n",
      "\n"
     ]
    }
   ],
   "source": [
    "x = np.array([[1, 2, 3], [3, 4, 5]])\n",
    "print(x, \"\\n\")\n",
    "print(np.sum(x), \"\\n\")\n",
    "print(np.sum(x, axis=0), \"\\n\")\n",
    "print(np.sum(x, axis=1), \"\\n\")\n",
    "print(np.mean(x), \"\\n\")\n",
    "print(np.mean(x, axis=0), \"\\n\")\n",
    "print(np.mean(x, axis=1), \"\\n\")"
   ]
  },
  {
   "cell_type": "code",
   "execution_count": 15,
   "id": "e04a03e8-3a71-4b9b-b49f-4b63eeff5328",
   "metadata": {},
   "outputs": [
    {
     "data": {
      "text/plain": [
       "array([1, 2, 3])"
      ]
     },
     "execution_count": 15,
     "metadata": {},
     "output_type": "execute_result"
    }
   ],
   "source": [
    "x = np.array([1, 2, \"3\"])\n",
    "x = x.astype(np.int32)\n",
    "x"
   ]
  },
  {
   "cell_type": "markdown",
   "id": "299f5534-e9a9-482d-a700-769ed56c40a1",
   "metadata": {},
   "source": [
    "## 난수 생성 함수"
   ]
  },
  {
   "cell_type": "markdown",
   "id": "963ae2f0-8930-4eed-af2b-e057adb514b3",
   "metadata": {},
   "source": [
    "#### np.random.random()\n",
    "- [0.0 ~ 1.0) 사이의 랜덤값을 반환하는 함수\n",
    "- random() == random_sample() == rand()"
   ]
  },
  {
   "cell_type": "code",
   "execution_count": 17,
   "id": "c0d12867-719e-4d07-acad-a8ddff1c7509",
   "metadata": {},
   "outputs": [
    {
     "data": {
      "text/plain": [
       "array([0.72503192, 0.66810975, 0.83976691])"
      ]
     },
     "execution_count": 17,
     "metadata": {},
     "output_type": "execute_result"
    }
   ],
   "source": [
    "np.random.random(3)"
   ]
  },
  {
   "cell_type": "code",
   "execution_count": 18,
   "id": "176a4476-c94d-4158-a74a-de4a8cf6510b",
   "metadata": {},
   "outputs": [
    {
     "data": {
      "text/plain": [
       "array([[0.92995784, 0.60610727],\n",
       "       [0.42547401, 0.74718266]])"
      ]
     },
     "execution_count": 18,
     "metadata": {},
     "output_type": "execute_result"
    }
   ],
   "source": [
    "np.random.random((2, 2))"
   ]
  },
  {
   "cell_type": "markdown",
   "id": "5988193e-d53d-47e4-8502-005a72f87c36",
   "metadata": {},
   "source": [
    "#### np.random.randn()\n",
    "- 정규분포 추출"
   ]
  },
  {
   "cell_type": "code",
   "execution_count": 19,
   "id": "b6430dd6-382e-47b2-ac52-c8695cf6759c",
   "metadata": {},
   "outputs": [
    {
     "data": {
      "text/plain": [
       "array([[ 1.44401173,  0.05034961],\n",
       "       [ 0.06770877,  0.55076804],\n",
       "       [ 0.90140191, -1.01451979]])"
      ]
     },
     "execution_count": 19,
     "metadata": {},
     "output_type": "execute_result"
    }
   ],
   "source": [
    "np.random.randn(3, 2)"
   ]
  },
  {
   "cell_type": "markdown",
   "id": "8ff97201-9b0d-4891-b2be-654258ce9852",
   "metadata": {},
   "source": [
    "#### np.random.randint()\n",
    "- 랜덤 정수 추출"
   ]
  },
  {
   "cell_type": "code",
   "execution_count": 23,
   "id": "8541e929-e2d7-4bf4-888f-9797a4bb9d3b",
   "metadata": {},
   "outputs": [
    {
     "name": "stdout",
     "output_type": "stream",
     "text": [
      "60\n",
      "[96 55 35]\n",
      "[[74 90]\n",
      " [43 59]\n",
      " [11 89]]\n"
     ]
    }
   ],
   "source": [
    "print(np.random.randint(1, 100), \"\\n\") # 1부터 100사이에서 1개 추출\n",
    "print(np.random.randint(1, 100, 3), \"\\n\")\n",
    "print(np.random.randint(1, 100, (3, 2)), \"\\n\")"
   ]
  },
  {
   "cell_type": "markdown",
   "id": "5b1abeaa-fb3a-457a-9a7b-3840a17216d8",
   "metadata": {},
   "source": [
    "#### np.random.seed()"
   ]
  },
  {
   "cell_type": "code",
   "execution_count": 24,
   "id": "984d4aa7-501a-4eb9-91e1-cd203c24c844",
   "metadata": {},
   "outputs": [],
   "source": [
    "x = np.array([[1, 2], \n",
    "              [3, 4]])\n",
    "y = np.array([[5, 6],\n",
    "              [7, 8]])"
   ]
  },
  {
   "cell_type": "code",
   "execution_count": 25,
   "id": "b9dc1495-d265-4c0b-9e96-280c5a8abe7a",
   "metadata": {},
   "outputs": [
    {
     "data": {
      "text/plain": [
       "array([[ 6,  8],\n",
       "       [10, 12]])"
      ]
     },
     "execution_count": 25,
     "metadata": {},
     "output_type": "execute_result"
    }
   ],
   "source": [
    "x + y"
   ]
  },
  {
   "cell_type": "code",
   "execution_count": 28,
   "id": "0045c0eb-ca72-41cc-a88c-d244b99a7360",
   "metadata": {},
   "outputs": [
    {
     "name": "stdout",
     "output_type": "stream",
     "text": [
      "[[ 6  8]\n",
      " [10 12]] \n",
      "\n",
      "[[-4 -4]\n",
      " [-4 -4]] \n",
      "\n",
      "[[0.2        0.33333333]\n",
      " [0.42857143 0.5       ]] \n",
      "\n"
     ]
    }
   ],
   "source": [
    "print(np.add(x, y), \"\\n\")\n",
    "print(np.subtract(x, y), \"\\n\")\n",
    "print(np.divide(x, y), \"\\n\")"
   ]
  },
  {
   "cell_type": "code",
   "execution_count": 29,
   "id": "152ee4a5-b3c0-4281-9244-cf4b963ca233",
   "metadata": {},
   "outputs": [
    {
     "name": "stdout",
     "output_type": "stream",
     "text": [
      "[[ 5 12]\n",
      " [21 32]] \n",
      "\n",
      "[[ 5 12]\n",
      " [21 32]] \n",
      "\n"
     ]
    }
   ],
   "source": [
    "print(x * y, \"\\n\")   # 원소별 곱\n",
    "print(np.multiply(x, y), \"\\n\")   # 원소별 곱"
   ]
  },
  {
   "cell_type": "code",
   "execution_count": 32,
   "id": "26f645ea-b7dd-48e4-bc5f-d73c074d21e4",
   "metadata": {},
   "outputs": [
    {
     "name": "stdout",
     "output_type": "stream",
     "text": [
      "[[19 22]\n",
      " [43 50]] \n",
      "\n",
      "[[19 22]\n",
      " [43 50]] \n",
      "\n",
      "[[19 22]\n",
      " [43 50]] \n",
      "\n"
     ]
    }
   ],
   "source": [
    "print(np.dot(x, y), \"\\n\")   # 행렬 곱\n",
    "print(np.matmul(x, y), \"\\n\")   # 행렬 곱\n",
    "print(x @ y, \"\\n\")   # 행렬 곱"
   ]
  },
  {
   "cell_type": "code",
   "execution_count": 33,
   "id": "90acb1d8-3119-45d8-bbd5-2a5e4175facf",
   "metadata": {},
   "outputs": [
    {
     "name": "stdout",
     "output_type": "stream",
     "text": [
      "32 \n",
      "\n"
     ]
    }
   ],
   "source": [
    "tmp1 = np.array([1, 2, 3])\n",
    "tmp2 = np.array([4, 5, 6])\n",
    "print(np.matmul(tmp1, tmp2), \"\\n\")"
   ]
  },
  {
   "cell_type": "markdown",
   "id": "6057843c-25e4-4745-a71f-4e35aa879789",
   "metadata": {},
   "source": [
    "## np.argmax()\n",
    "- 값이 가장 큰 원소의 인덱스를 리턴"
   ]
  },
  {
   "cell_type": "code",
   "execution_count": 38,
   "id": "138d5f44-fb44-4a1d-9f06-a227e1488385",
   "metadata": {},
   "outputs": [
    {
     "data": {
      "text/plain": [
       "array([[ 0.47979696,  0.24357433,  0.76006217,  0.02189494],\n",
       "       [ 0.14934853,  0.8624537 , -0.60047009,  0.4332799 ],\n",
       "       [ 1.17264812, -0.12560475,  0.18196739, -1.99250228],\n",
       "       [ 1.09796614, -0.68139805, -0.10836873, -2.15634986],\n",
       "       [-1.15374806,  0.2332438 , -1.33380529, -0.32761795]])"
      ]
     },
     "execution_count": 38,
     "metadata": {},
     "output_type": "execute_result"
    }
   ],
   "source": [
    "x = np.random.randn(5, 4)\n",
    "x"
   ]
  },
  {
   "cell_type": "code",
   "execution_count": 40,
   "id": "38ef18f6-8b42-4ee3-ba0c-d032859b51be",
   "metadata": {},
   "outputs": [
    {
     "name": "stdout",
     "output_type": "stream",
     "text": [
      "[2 1 0 1] \n",
      "\n",
      "[2 1 0 0 1] \n",
      "\n"
     ]
    }
   ],
   "source": [
    "print(np.argmax(x, axis=0), \"\\n\")\n",
    "print(np.argmax(x, axis=1), \"\\n\")"
   ]
  },
  {
   "cell_type": "markdown",
   "id": "b0570eb6-2ff1-4889-abc1-de1491f581ac",
   "metadata": {},
   "source": [
    "## 저장\n",
    "* savez()"
   ]
  },
  {
   "cell_type": "code",
   "execution_count": 42,
   "id": "37150343-3f64-4b4c-9c7a-1abe89381f25",
   "metadata": {},
   "outputs": [],
   "source": [
    "x = np.random.randn(5, 4)\n",
    "y = np.random.randn(3, 3)\n",
    "np.savez(\"mydata.npz\", xvar=x, yvar=y)   # \"mydata\"라는 이름으로 저장(x데이터는 xvar라는 키워드로 저장하며 y데이터는 yvar라는 키워드로 저장)"
   ]
  },
  {
   "cell_type": "markdown",
   "id": "8c85ae64-a8bd-46eb-82f0-08c45037a89e",
   "metadata": {},
   "source": [
    "## 파일 로딩"
   ]
  },
  {
   "cell_type": "code",
   "execution_count": 43,
   "id": "660df563-2ba9-48da-a62e-10c5b046209f",
   "metadata": {},
   "outputs": [],
   "source": [
    "mydata = np.load(\"mydata.npz\")"
   ]
  },
  {
   "cell_type": "code",
   "execution_count": 44,
   "id": "5675bae6-7474-4e84-bd73-d9c63aa83e3d",
   "metadata": {
    "tags": []
   },
   "outputs": [
    {
     "name": "stdout",
     "output_type": "stream",
     "text": [
      "[[-0.44739659 -0.77842941 -1.99800919 -1.69547193]\n",
      " [ 0.90361779  0.36681767 -0.1669465  -0.38232671]\n",
      " [ 0.90008182  0.11353986  0.62361477  0.47144535]\n",
      " [-0.47277882 -0.51094101  1.03661013  0.23350599]\n",
      " [-1.47417307 -2.02895942  0.16645811 -0.78703326]] \n",
      "\n",
      "[[-0.095217   -0.16656779 -1.05229137]\n",
      " [ 1.02380957 -0.09799937 -0.82821077]\n",
      " [-1.00000538 -0.06510517 -0.69456992]] \n",
      "\n"
     ]
    }
   ],
   "source": [
    "x = mydata[\"xvar\"]\n",
    "print(x, \"\\n\")\n",
    "y = mydata[\"yvar\"]\n",
    "print(y, \"\\n\")"
   ]
  }
 ],
 "metadata": {
  "kernelspec": {
   "display_name": "flyai",
   "language": "python",
   "name": "flyai"
  },
  "language_info": {
   "codemirror_mode": {
    "name": "ipython",
    "version": 3
   },
   "file_extension": ".py",
   "mimetype": "text/x-python",
   "name": "python",
   "nbconvert_exporter": "python",
   "pygments_lexer": "ipython3",
   "version": "3.8.0"
  }
 },
 "nbformat": 4,
 "nbformat_minor": 5
}
