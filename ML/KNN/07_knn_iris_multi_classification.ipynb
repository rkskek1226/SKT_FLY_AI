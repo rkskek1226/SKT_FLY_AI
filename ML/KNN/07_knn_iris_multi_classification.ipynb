{
 "cells": [
  {
   "cell_type": "markdown",
   "id": "564ac7fc-389a-47d7-9ce8-10aac032fedc",
   "metadata": {},
   "source": [
    "## KNN으로 iris 다중 분류(Multiclass Classification)\n",
    "---"
   ]
  },
  {
   "cell_type": "code",
   "execution_count": 6,
   "id": "7c8914f1-1e71-4d57-99e5-1b0c5c48cf2d",
   "metadata": {},
   "outputs": [],
   "source": [
    "import numpy as np\n",
    "import pandas as pd\n",
    "import matplotlib.pyplot as plt\n",
    "import seaborn as sns\n",
    "import sklearn"
   ]
  },
  {
   "cell_type": "code",
   "execution_count": null,
   "id": "816c65eb-82a0-4ae1-9718-564759594902",
   "metadata": {},
   "outputs": [],
   "source": [
    "# 경고 문구 알림 끄기\n",
    "# import warnings\n",
    "# warnings.filterwarnings(\"ignore\")"
   ]
  },
  {
   "cell_type": "code",
   "execution_count": 8,
   "id": "8f999383-8cec-4ce8-8a00-fb6c8796211b",
   "metadata": {},
   "outputs": [
    {
     "name": "stdout",
     "output_type": "stream",
     "text": [
      "(150, 4) (150,)\n",
      "(120, 4) (30, 4) (120,) (30,)\n",
      "(120, 4) (30, 4)\n",
      "(120,) (30,)\n"
     ]
    },
    {
     "name": "stderr",
     "output_type": "stream",
     "text": [
      "C:\\Users\\021\\AppData\\Local\\Temp\\ipykernel_23568\\819118655.py:24: SettingWithCopyWarning: \n",
      "A value is trying to be set on a copy of a slice from a DataFrame.\n",
      "Try using .loc[row_indexer,col_indexer] = value instead\n",
      "\n",
      "See the caveats in the documentation: https://pandas.pydata.org/pandas-docs/stable/user_guide/indexing.html#returning-a-view-versus-a-copy\n",
      "  x_train[col] = (x_train[col] - mu) / std\n",
      "C:\\Users\\021\\AppData\\Local\\Temp\\ipykernel_23568\\819118655.py:25: SettingWithCopyWarning: \n",
      "A value is trying to be set on a copy of a slice from a DataFrame.\n",
      "Try using .loc[row_indexer,col_indexer] = value instead\n",
      "\n",
      "See the caveats in the documentation: https://pandas.pydata.org/pandas-docs/stable/user_guide/indexing.html#returning-a-view-versus-a-copy\n",
      "  x_test[col] = (x_test[col] - mu) / std\n"
     ]
    }
   ],
   "source": [
    "x_train, x_test, y_train, y_test = get_iris()\n",
    "print(x_train.shape, x_test.shape)\n",
    "print(y_train.shape, y_test.shape)"
   ]
  },
  {
   "cell_type": "code",
   "execution_count": 10,
   "id": "0c8f4daf-c305-47ac-840b-98f1774a0ef1",
   "metadata": {},
   "outputs": [],
   "source": [
    "def get_iris():\n",
    "    iris = pd.read_csv(\"../data/iris.csv\")\n",
    "    df = iris.drop([\"Id\"], axis=1).copy()\n",
    "    df.columns = ['sepal_length', 'sepal_width', 'petal_length', 'petal_width', 'species']\n",
    "    df[\"species\"] = df[\"species\"].map({\"Iris-setosa\": 0, \"Iris-versicolor\": 1, \"Iris-virginica\": 2})   # Label Encoding\n",
    "    \n",
    "    # 데이터 분리\n",
    "    x_data = df.iloc[:, :-1]\n",
    "    y_data = df.iloc[:, -1]\n",
    "    \n",
    "    x_data, y_data = sklearn.utils.shuffle(x_data, y_data)   # 랜덤으로 셔플\n",
    "\n",
    "    # 8:2 비율로 데이터 분리\n",
    "    print(x_data.shape, y_data.shape)\n",
    "    x_train = x_data.iloc[:120]\n",
    "    x_test = x_data.iloc[120:]\n",
    "    y_train = y_data.iloc[:120]\n",
    "    y_test = y_data.iloc[120:]\n",
    "    print(x_train.shape, x_test.shape, y_train.shape, y_test.shape)\n",
    "    \n",
    "    for col in x_train.columns:\n",
    "        mu = x_train[col].mean()\n",
    "        std = x_train[col].std()\n",
    "        x_train[col] = (x_train[col] - mu) / std\n",
    "        x_test[col] = (x_test[col] - mu) / std\n",
    "    \n",
    "    return x_train, x_test, y_train, y_test\n",
    "    "
   ]
  },
  {
   "cell_type": "code",
   "execution_count": 9,
   "id": "25170e44-8024-4c38-b336-7036885d1684",
   "metadata": {},
   "outputs": [],
   "source": [
    "x_train = x_train.values\n",
    "x_test = x_test.values\n",
    "y_train = y_train.values\n",
    "y_test = y_test.values"
   ]
  },
  {
   "cell_type": "code",
   "execution_count": null,
   "id": "add11508-0ee7-4212-a960-af999b8e3d94",
   "metadata": {},
   "outputs": [],
   "source": []
  },
  {
   "cell_type": "markdown",
   "id": "31ad9669-d493-4ca9-999a-a54f79761e6b",
   "metadata": {},
   "source": [
    "#### 학습"
   ]
  },
  {
   "cell_type": "code",
   "execution_count": 13,
   "id": "68941b95-f123-41db-b71d-730ebccf61da",
   "metadata": {},
   "outputs": [
    {
     "data": {
      "text/plain": [
       "0.975"
      ]
     },
     "execution_count": 13,
     "metadata": {},
     "output_type": "execute_result"
    }
   ],
   "source": [
    "from sklearn.neighbors import KNeighborsClassifier\n",
    "\n",
    "clf = KNeighborsClassifier()\n",
    "clf.fit(x_train, y_train)\n",
    "clf.score(x_train, y_train)"
   ]
  },
  {
   "cell_type": "code",
   "execution_count": null,
   "id": "4d9dc0de-e062-412e-9879-b0118d03e4d2",
   "metadata": {},
   "outputs": [],
   "source": []
  },
  {
   "cell_type": "markdown",
   "id": "0e2e5983-a778-4134-a461-e44fb66cb012",
   "metadata": {},
   "source": [
    "#### 평가"
   ]
  },
  {
   "cell_type": "code",
   "execution_count": 14,
   "id": "4b89d47a-4f0a-4404-ac60-278873e1eaa3",
   "metadata": {},
   "outputs": [
    {
     "data": {
      "text/plain": [
       "0.9333333333333333"
      ]
     },
     "execution_count": 14,
     "metadata": {},
     "output_type": "execute_result"
    }
   ],
   "source": [
    "clf.score(x_test, y_test)"
   ]
  },
  {
   "cell_type": "code",
   "execution_count": null,
   "id": "186c066e-3761-4964-8dce-bbea6a02a6b8",
   "metadata": {},
   "outputs": [],
   "source": []
  },
  {
   "cell_type": "markdown",
   "id": "5bcc72bf-1fe0-429e-8e35-ee933bd5d165",
   "metadata": {},
   "source": [
    "#### 예측"
   ]
  },
  {
   "cell_type": "code",
   "execution_count": 16,
   "id": "bdf80ce1-a079-4922-9128-3e3fe42b209d",
   "metadata": {},
   "outputs": [],
   "source": [
    "y_pred = clf.predict(x_test)"
   ]
  },
  {
   "cell_type": "code",
   "execution_count": 21,
   "id": "9afcb6fc-cb8e-4e7c-8d3a-ea4e616b2a54",
   "metadata": {},
   "outputs": [],
   "source": [
    "from sklearn.metrics import accuracy_score   # 정확도\n",
    "from sklearn.metrics import precision_score   # 정밀도\n",
    "from sklearn.metrics import recall_score   # 재현율\n",
    "\n",
    "def print_score(y_test, y_pred, average=\"binary\"):\n",
    "    acc = accuracy_score(y_test, y_pred)\n",
    "    pre = precision_score(y_test, y_pred, average=\"macro\")   # 다중 분류 경우 정밀도와 재현율을 구하는 함수에서 average 옵션에서 \"macro\"를 지정해야함\n",
    "    rec = recall_score(y_test, y_pred, average=\"macro\")   # 다중 분류 경우 정밀도와 재현율을 구하는 함수에서 average 옵션에서 \"macro\"를 지정해야함\n",
    "    print(\"accuracy :\", acc)\n",
    "    print(\"precision :\", pre)\n",
    "    print(\"recall :\", rec)"
   ]
  },
  {
   "cell_type": "code",
   "execution_count": 23,
   "id": "3873b874-fe3c-483f-8814-030e1a303bb9",
   "metadata": {},
   "outputs": [
    {
     "name": "stdout",
     "output_type": "stream",
     "text": [
      "accuracy : 0.9333333333333333\n",
      "precision : 0.9440559440559442\n",
      "recall : 0.9440559440559442\n"
     ]
    }
   ],
   "source": [
    "print_score(y_test, y_pred, average=\"macro\")"
   ]
  },
  {
   "cell_type": "code",
   "execution_count": null,
   "id": "2d174e8b-8874-4d17-b2f2-c23fb3da63c9",
   "metadata": {},
   "outputs": [],
   "source": []
  }
 ],
 "metadata": {
  "kernelspec": {
   "display_name": "flyai",
   "language": "python",
   "name": "flyai"
  },
  "language_info": {
   "codemirror_mode": {
    "name": "ipython",
    "version": 3
   },
   "file_extension": ".py",
   "mimetype": "text/x-python",
   "name": "python",
   "nbconvert_exporter": "python",
   "pygments_lexer": "ipython3",
   "version": "3.8.0"
  }
 },
 "nbformat": 4,
 "nbformat_minor": 5
}
