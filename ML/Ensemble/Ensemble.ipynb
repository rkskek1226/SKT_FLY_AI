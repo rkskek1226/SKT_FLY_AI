{
 "cells": [
  {
   "cell_type": "markdown",
   "id": "0c2b68e1-1d6e-4404-ae06-b429ff58c1f9",
   "metadata": {},
   "source": [
    "## Ensemble"
   ]
  },
  {
   "cell_type": "markdown",
   "id": "cbc59666-5d4e-48b3-a394-dc235c36c176",
   "metadata": {},
   "source": [
    "* 알고리즘이 아닌 기법\n",
    "* 강력한 하나의 모델을 사용하는 대신 약한 모델 여러개를 조합하는 방식\n",
    "* 종류\n",
    " 1. 보팅(Voting)\n",
    " 2. 배깅(Bagging)\n",
    " 3. 부스팅(Boosting)\n",
    " \n",
    "* 보팅 : 다른 알고리즘을 여러개 묶음\n",
    "  - 각각의 분류기에서 나오는 다수의 결과를 선택(하드 보팅)\n",
    "  - 각 분류기에서 클래스별 확률을 계산하고 평균을 계산해 선택(소프트 보팅)\n",
    "* 배깅 : 같은 알고리즘을 여러개 묶음, 학습 데이터에서 여러 서브셋을 생성하고 같은 종류의 분류기를 사용해 분류\n",
    "  - 부트스트랩 : 데이터로부터 중복복원 추출\n",
    "  - 랜덤 포레스트 : 배깅 방법을 적용한 결정 트리의 앙상블(알고리즘으로 결정 트리를 선택하는 것)\n",
    "* 부스팅 : 앞의 분류기의 에러를 보완하는 약한 분류기를 차례로 연결하는 앙상블 기법\n",
    "  - 아다부스트 : 앞의 분류기에서 예측하지 못했던 데이터의 가중치를 높임\n",
    "  - 그래디언트 부스팅 : \n",
    "  - Ligh GBM : \n",
    "  - Categorical Boosting : 범주형 변수가 많은 데이터셋에서 높은 성능을 보임"
   ]
  },
  {
   "cell_type": "code",
   "execution_count": null,
   "id": "4dbc403e-0f17-4496-9aef-38935def7610",
   "metadata": {},
   "outputs": [],
   "source": []
  }
 ],
 "metadata": {
  "kernelspec": {
   "display_name": "flyai",
   "language": "python",
   "name": "flyai"
  },
  "language_info": {
   "codemirror_mode": {
    "name": "ipython",
    "version": 3
   },
   "file_extension": ".py",
   "mimetype": "text/x-python",
   "name": "python",
   "nbconvert_exporter": "python",
   "pygments_lexer": "ipython3",
   "version": "3.8.0"
  }
 },
 "nbformat": 4,
 "nbformat_minor": 5
}
